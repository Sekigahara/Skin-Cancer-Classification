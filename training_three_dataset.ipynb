{
 "cells": [
  {
   "cell_type": "code",
   "execution_count": 1,
   "metadata": {},
   "outputs": [],
   "source": [
    "import tensorflow as tf\n",
    "import numpy as np"
   ]
  },
  {
   "cell_type": "code",
   "execution_count": 2,
   "metadata": {},
   "outputs": [],
   "source": [
    "inputs_shape = (160, 160)\n",
    "channel = (3,)"
   ]
  },
  {
   "cell_type": "code",
   "execution_count": 3,
   "metadata": {},
   "outputs": [
    {
     "name": "stdout",
     "output_type": "stream",
     "text": [
      "Found 14281 images belonging to 3 classes.\n",
      "Found 6620 images belonging to 3 classes.\n"
     ]
    }
   ],
   "source": [
    "datagen = tf.keras.preprocessing.image.ImageDataGenerator(rescale=1./255)\n",
    "\n",
    "train_datagen = datagen.flow_from_directory(\n",
    "    'dataset_three_classes/train',\n",
    "    target_size=inputs_shape,\n",
    "    batch_size=64,\n",
    "    class_mode='categorical'\n",
    ")\n",
    "\n",
    "test_datagen = datagen.flow_from_directory(\n",
    "    'dataset_three_classes/test',\n",
    "    target_size=inputs_shape,\n",
    "    batch_size=64,\n",
    "    class_mode='categorical'\n",
    ")"
   ]
  },
  {
   "cell_type": "code",
   "execution_count": 4,
   "metadata": {},
   "outputs": [],
   "source": [
    "def mish(inputs):\n",
    "    x = tf.nn.softplus(inputs)\n",
    "    x = tf.nn.tanh(x)\n",
    "    x = tf.multiply(x, inputs)\n",
    "    return x\n",
    "\n",
    "def swish(inputs):\n",
    "    x = tf.nn.sigmoid(inputs)\n",
    "    x = tf.multiply(x, inputs)\n",
    "    return x\n",
    "\n",
    "def relu(inputs):\n",
    "    return tf.nn.relu(inputs)\n",
    "    "
   ]
  },
  {
   "cell_type": "markdown",
   "metadata": {},
   "source": [
    "Training Combination :\n",
    "\n",
    "1. Activation function :\n",
    "-relu\n",
    "-mish\n",
    "-swish\n",
    "\n",
    "2. optimizer\n",
    "-SGD\n",
    "-RMSProp\n",
    "-Adam"
   ]
  },
  {
   "cell_type": "code",
   "execution_count": 89,
   "metadata": {},
   "outputs": [],
   "source": [
    "def create_model(activation=relu, input_shape=(160, 160, 3)):\n",
    "    model = tf.keras.Sequential([\n",
    "        tf.keras.layers.Input(shape=input_shape),\n",
    "        tf.keras.layers.Conv2D(64, kernel_size=(3, 3), activation=activation, padding='same'),\n",
    "        tf.keras.layers.MaxPool2D(pool_size=(2, 2), strides=(2, 2)),\n",
    "        tf.keras.layers.Conv2D(64, kernel_size=(3, 3), activation=activation, padding='same'),\n",
    "        tf.keras.layers.Conv2D(64, kernel_size=(3, 3), activation=activation, padding='same'),\n",
    "        tf.keras.layers.MaxPool2D(pool_size=(2, 2), strides=(2, 2)),\n",
    "        tf.keras.layers.Conv2D(128, kernel_size=(3, 3), activation=activation, padding='same'),\n",
    "        tf.keras.layers.Conv2D(128, kernel_size=(3, 3), activation=activation, padding='same'),\n",
    "        tf.keras.layers.MaxPool2D(pool_size=(2, 2), strides=(2, 2)),\n",
    "        tf.keras.layers.Flatten(),\n",
    "        tf.keras.layers.Dense(256, activation=activation),\n",
    "        #tf.keras.layers.Dense(256, activation=activation),\n",
    "        tf.keras.layers.Dropout(0.2),\n",
    "        tf.keras.layers.Dense(3, activation='softmax')\n",
    "    ])\n",
    "\n",
    "    model.summary()\n",
    "\n",
    "    return model"
   ]
  },
  {
   "cell_type": "code",
   "execution_count": 90,
   "metadata": {},
   "outputs": [],
   "source": [
    "max_epoch = 20\n",
    "def scheduler(epoch):\n",
    "    if epoch < 10:\n",
    "        return 0.001\n",
    "    elif epoch < max_epoch:\n",
    "        return 0.0001\n",
    "\n",
    "scheduler_callback = tf.keras.callbacks.LearningRateScheduler(scheduler)"
   ]
  },
  {
   "cell_type": "code",
   "execution_count": 91,
   "metadata": {},
   "outputs": [
    {
     "name": "stdout",
     "output_type": "stream",
     "text": [
      "Model: \"sequential_15\"\n",
      "_________________________________________________________________\n",
      " Layer (type)                Output Shape              Param #   \n",
      "=================================================================\n",
      " conv2d_67 (Conv2D)          (None, 160, 160, 64)      1792      \n",
      "                                                                 \n",
      " max_pooling2d_48 (MaxPoolin  (None, 80, 80, 64)       0         \n",
      " g2D)                                                            \n",
      "                                                                 \n",
      " conv2d_68 (Conv2D)          (None, 80, 80, 64)        36928     \n",
      "                                                                 \n",
      " conv2d_69 (Conv2D)          (None, 80, 80, 64)        36928     \n",
      "                                                                 \n",
      " max_pooling2d_49 (MaxPoolin  (None, 40, 40, 64)       0         \n",
      " g2D)                                                            \n",
      "                                                                 \n",
      " conv2d_70 (Conv2D)          (None, 40, 40, 128)       73856     \n",
      "                                                                 \n",
      " conv2d_71 (Conv2D)          (None, 40, 40, 128)       147584    \n",
      "                                                                 \n",
      " max_pooling2d_50 (MaxPoolin  (None, 20, 20, 128)      0         \n",
      " g2D)                                                            \n",
      "                                                                 \n",
      " flatten_16 (Flatten)        (None, 51200)             0         \n",
      "                                                                 \n",
      " dense_31 (Dense)            (None, 256)               13107456  \n",
      "                                                                 \n",
      " dropout_16 (Dropout)        (None, 256)               0         \n",
      "                                                                 \n",
      " dense_32 (Dense)            (None, 3)                 771       \n",
      "                                                                 \n",
      "=================================================================\n",
      "Total params: 13,405,315\n",
      "Trainable params: 13,405,315\n",
      "Non-trainable params: 0\n",
      "_________________________________________________________________\n"
     ]
    }
   ],
   "source": [
    "model = create_model(activation=mish, input_shape=inputs_shape + channel)\n",
    "model.compile(optimizer=tf.keras.optimizers.Adam(learning_rate=scheduler(0)),\n",
    "        loss='categorical_crossentropy',\n",
    "        metrics=['accuracy']\n",
    ")"
   ]
  },
  {
   "cell_type": "code",
   "execution_count": 92,
   "metadata": {},
   "outputs": [
    {
     "name": "stdout",
     "output_type": "stream",
     "text": [
      "Epoch 1/20\n",
      "224/224 [==============================] - 49s 217ms/step - loss: 0.8990 - accuracy: 0.5830 - val_loss: 0.9679 - val_accuracy: 0.5621 - lr: 0.0010\n",
      "Epoch 2/20\n",
      "224/224 [==============================] - 48s 214ms/step - loss: 0.7278 - accuracy: 0.6745 - val_loss: 0.8967 - val_accuracy: 0.6601 - lr: 0.0010\n",
      "Epoch 3/20\n",
      "224/224 [==============================] - 48s 214ms/step - loss: 0.6991 - accuracy: 0.6870 - val_loss: 0.8961 - val_accuracy: 0.6242 - lr: 0.0010\n",
      "Epoch 4/20\n",
      "224/224 [==============================] - 48s 215ms/step - loss: 0.6131 - accuracy: 0.7258 - val_loss: 1.0263 - val_accuracy: 0.6399 - lr: 0.0010\n",
      "Epoch 5/20\n",
      "224/224 [==============================] - 48s 214ms/step - loss: 0.5191 - accuracy: 0.7756 - val_loss: 1.1224 - val_accuracy: 0.6761 - lr: 0.0010\n",
      "Epoch 6/20\n",
      "224/224 [==============================] - 48s 215ms/step - loss: 0.4091 - accuracy: 0.8307 - val_loss: 1.0520 - val_accuracy: 0.6825 - lr: 0.0010\n",
      "Epoch 7/20\n",
      "224/224 [==============================] - 48s 216ms/step - loss: 0.2892 - accuracy: 0.8925 - val_loss: 1.2840 - val_accuracy: 0.6863 - lr: 0.0010\n",
      "Epoch 8/20\n",
      "224/224 [==============================] - 48s 215ms/step - loss: 0.2016 - accuracy: 0.9319 - val_loss: 1.6356 - val_accuracy: 0.6988 - lr: 0.0010\n",
      "Epoch 9/20\n",
      "224/224 [==============================] - 48s 215ms/step - loss: 0.1502 - accuracy: 0.9527 - val_loss: 1.7098 - val_accuracy: 0.7201 - lr: 0.0010\n",
      "Epoch 10/20\n",
      "224/224 [==============================] - 48s 215ms/step - loss: 0.1109 - accuracy: 0.9662 - val_loss: 1.8084 - val_accuracy: 0.7154 - lr: 0.0010\n",
      "Epoch 11/20\n",
      "224/224 [==============================] - 48s 215ms/step - loss: 0.0629 - accuracy: 0.9814 - val_loss: 1.7546 - val_accuracy: 0.7104 - lr: 1.0000e-04\n",
      "Epoch 12/20\n",
      "224/224 [==============================] - 48s 215ms/step - loss: 0.0455 - accuracy: 0.9855 - val_loss: 1.8918 - val_accuracy: 0.7175 - lr: 1.0000e-04\n",
      "Epoch 13/20\n",
      "224/224 [==============================] - 48s 216ms/step - loss: 0.0376 - accuracy: 0.9887 - val_loss: 1.9912 - val_accuracy: 0.7100 - lr: 1.0000e-04\n",
      "Epoch 14/20\n",
      "224/224 [==============================] - 48s 215ms/step - loss: 0.0323 - accuracy: 0.9889 - val_loss: 2.0387 - val_accuracy: 0.7159 - lr: 1.0000e-04\n",
      "Epoch 15/20\n",
      "224/224 [==============================] - 48s 215ms/step - loss: 0.0318 - accuracy: 0.9889 - val_loss: 2.1742 - val_accuracy: 0.7153 - lr: 1.0000e-04\n",
      "Epoch 16/20\n",
      "224/224 [==============================] - 48s 215ms/step - loss: 0.0292 - accuracy: 0.9901 - val_loss: 2.1838 - val_accuracy: 0.7147 - lr: 1.0000e-04\n",
      "Epoch 17/20\n",
      "224/224 [==============================] - 48s 216ms/step - loss: 0.0285 - accuracy: 0.9903 - val_loss: 2.2196 - val_accuracy: 0.7145 - lr: 1.0000e-04\n",
      "Epoch 18/20\n",
      "224/224 [==============================] - 48s 215ms/step - loss: 0.0278 - accuracy: 0.9907 - val_loss: 2.1643 - val_accuracy: 0.7183 - lr: 1.0000e-04\n",
      "Epoch 19/20\n",
      "224/224 [==============================] - 48s 215ms/step - loss: 0.0275 - accuracy: 0.9908 - val_loss: 2.2714 - val_accuracy: 0.7131 - lr: 1.0000e-04\n",
      "Epoch 20/20\n",
      "224/224 [==============================] - 48s 216ms/step - loss: 0.0250 - accuracy: 0.9917 - val_loss: 2.2996 - val_accuracy: 0.7092 - lr: 1.0000e-04\n"
     ]
    }
   ],
   "source": [
    "with tf.device('/gpu:0'):\n",
    "    history = model.fit(train_datagen, epochs=max_epoch, validation_data=test_datagen, verbose=1, callbacks=[scheduler_callback])"
   ]
  },
  {
   "cell_type": "code",
   "execution_count": 40,
   "metadata": {},
   "outputs": [
    {
     "name": "stdout",
     "output_type": "stream",
     "text": [
      "224/224 [==============================] - 16s 72ms/step - loss: 0.0451 - accuracy: 0.9869\n",
      "104/104 [==============================] - 8s 78ms/step - loss: 1.9078 - accuracy: 0.7101\n"
     ]
    }
   ],
   "source": [
    "# Model Validation\n",
    "eval_hist_train = model.evaluate(train_datagen)\n",
    "eval_hist_test = model.evaluate(test_datagen)"
   ]
  },
  {
   "cell_type": "code",
   "execution_count": 48,
   "metadata": {},
   "outputs": [
    {
     "data": {
      "image/png": "[encoded data removed]",
      "text/plain": [
       "<Figure size 432x288 with 1 Axes>"
      ]
     },
     "metadata": {
      "needs_background": "light"
     },
     "output_type": "display_data"
    }
   ],
   "source": [
    "import matplotlib.pyplot as plt\n",
    "\n",
    "# Save Train result\n",
    "fig2 = plt.gcf()\n",
    "plt.plot(history.history['loss'])\n",
    "plt.plot(history.history['val_loss'])\n",
    "plt.title('model loss')\n",
    "plt.xlabel('epoch')\n",
    "plt.ylabel('loss')\n",
    "plt.legend(['train', 'validation'], loc='upper left')\n",
    "plt.show()\n",
    "\n",
    "fig2.savefig('history/loss_shallow_mish_adam.jpg')"
   ]
  },
  {
   "cell_type": "code",
   "execution_count": 49,
   "metadata": {},
   "outputs": [
    {
     "data": {
      "image/png": "[encoded data removed]",
      "text/plain": [
       "<Figure size 432x288 with 1 Axes>"
      ]
     },
     "metadata": {
      "needs_background": "light"
     },
     "output_type": "display_data"
    }
   ],
   "source": [
    "\n",
    "import matplotlib.pyplot as plt\n",
    "\n",
    "# Save Train result\n",
    "fig2 = plt.gcf()\n",
    "plt.plot(history.history['accuracy'])\n",
    "plt.plot(history.history['val_accuracy'])\n",
    "plt.title('model accuracy')\n",
    "plt.xlabel('epoch')\n",
    "plt.ylabel('loss')\n",
    "plt.legend(['train', 'validation'], loc='upper left')\n",
    "plt.show()\n",
    "\n",
    "fig2.savefig('history/acc_shallow_mish_adam.jpg')"
   ]
  },
  {
   "cell_type": "code",
   "execution_count": 50,
   "metadata": {},
   "outputs": [],
   "source": [
    "# Save model\n",
    "model.save(\"weight/adam_mish.h5\")"
   ]
  },
  {
   "cell_type": "code",
   "execution_count": null,
   "metadata": {},
   "outputs": [],
   "source": []
  }
 ],
 "metadata": {
  "kernelspec": {
   "display_name": "Python 3.8.12 ('sekigahara')",
   "language": "python",
   "name": "python3"
  },
  "language_info": {
   "codemirror_mode": {
    "name": "ipython",
    "version": 3
   },
   "file_extension": ".py",
   "mimetype": "text/x-python",
   "name": "python",
   "nbconvert_exporter": "python",
   "pygments_lexer": "ipython3",
   "version": "3.8.12"
  },
  "orig_nbformat": 4,
  "vscode": {
   "interpreter": {
    "hash": "85b3e9a93fd6d54902d8504db28d32c7c77deb13c32a16ffc61523ea758b36c8"
   }
  }
 },
 "nbformat": 4,
 "nbformat_minor": 2
}
